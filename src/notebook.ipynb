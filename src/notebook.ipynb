{
 "cells": [
  {
   "attachments": {},
   "cell_type": "markdown",
   "metadata": {},
   "source": [
    "## Step 1️: Set up your OpenAI or Azure OpenAI Service key"
   ]
  },
  {
   "cell_type": "code",
   "execution_count": null,
   "metadata": {
    "dotnet_interactive": {
     "language": "csharp"
    },
    "polyglot_notebook": {
     "kernelName": "csharp"
    }
   },
   "outputs": [],
   "source": [
    "#!import ../config/Settings.cs\n",
    "\n",
    "bool useAzureOpenAI = false;\n",
    "\n",
    "await Settings.AskAzureEndpoint(useAzureOpenAI);\n",
    "await Settings.AskModel(useAzureOpenAI);\n",
    "await Settings.AskApiKey(useAzureOpenAI);"
   ]
  },
  {
   "attachments": {},
   "cell_type": "markdown",
   "metadata": {},
   "source": [
    "## Step 2: Instantiating a kernel"
   ]
  },
  {
   "cell_type": "code",
   "execution_count": null,
   "metadata": {
    "dotnet_interactive": {
     "language": "csharp"
    },
    "polyglot_notebook": {
     "kernelName": "csharp"
    }
   },
   "outputs": [],
   "source": [
    "#r \"nuget: Microsoft.SemanticKernel, 0.9.61.1-preview\"\n",
    "\n",
    "#!import ../config/Settings.cs\n",
    "\n",
    "using Microsoft.SemanticKernel;\n",
    "using Microsoft.SemanticKernel.KernelExtensions;\n",
    "using System.IO;\n",
    "using Microsoft.SemanticKernel.Configuration;\n",
    "using Microsoft.SemanticKernel.SemanticFunctions;\n",
    "\n",
    "IKernel kernel = Microsoft.SemanticKernel.Kernel.Builder.Build();\n",
    "\n",
    "// Grab the locally stored credentials from the settings.json file. Name the \"backend\" as \"davinci\" — assuming that you're using one of the davinci completion models. \n",
    "\n",
    "var (useAzureOpenAI, model, azureEndpoint, apiKey, orgId) = Settings.LoadFromFile();\n",
    "\n",
    "if (useAzureOpenAI)\n",
    "    kernel.Config.AddAzureOpenAITextCompletion(\"davinci\", model, azureEndpoint, apiKey);\n",
    "else\n",
    "    kernel.Config.AddOpenAITextCompletion(\"davinci\", model, apiKey, orgId);"
   ]
  },
  {
   "attachments": {},
   "cell_type": "markdown",
   "metadata": {},
   "source": [
    "## Step 3: Running our code"
   ]
  },
  {
   "cell_type": "code",
   "execution_count": null,
   "metadata": {
    "dotnet_interactive": {
     "language": "csharp"
    },
    "polyglot_notebook": {
     "kernelName": "csharp"
    }
   },
   "outputs": [],
   "source": [
    "using Microsoft.SemanticKernel.Orchestration;\n",
    "using Microsoft.DotNet.Interactive;\n",
    "using System;\n",
    "using System.Net.Http;\n",
    "using System.Threading.Tasks;\n",
    "using System.Collections.Generic;\n",
    "using Newtonsoft.Json;\n",
    "using System.Text.RegularExpressions;\n",
    "string pattern = @\"\\b[\\da-f]{8}-[\\da-f]{4}-[\\da-f]{4}-[\\da-f]{4}-[\\da-f]{12}\\b\";\n",
    "\n",
    "// Setting Http Client\n",
    "HttpClient client = new HttpClient();\n",
    "client.DefaultRequestHeaders.Accept.Clear();\n",
    "client.DefaultRequestHeaders.Accept.Add(\n",
    "new System.Net.Http.Headers.MediaTypeWithQualityHeaderValue(\"application/json\"));\n",
    "\n",
    "// retrieve Customer data\n",
    "var response = await client.GetAsync(\"https://sk-api-backend.azurewebsites.net/api/customer/getInsuranceCustomers\");\n",
    "var customerData = await response.Content.ReadAsStringAsync();\n",
    "var customerDataDS = JsonConvert.DeserializeObject<List<Customer>>(customerData);\n",
    "\n",
    "class Customer\n",
    "{\n",
    "    public string customerId { get; set; }\n",
    "    public string fullName { get; set; }\n",
    "    public int yearlyPremium { get; set; }\n",
    "}\n",
    "\n",
    "// retrieve certification data\n",
    "response = await client.GetAsync(\"https://sk-api-backend.azurewebsites.net/api/customer/getDrivingCertificates\");\n",
    "var certificationData = await response.Content.ReadAsStringAsync();\n",
    "var certificationDataDS = JsonConvert.DeserializeObject<List<Certificate>>(certificationData);\n",
    "\n",
    "class Certificate\n",
    "{\n",
    "    public string certificationId { get; set; }\n",
    "    public string fullName { get; set; }\n",
    "}\n",
    "\n",
    "// Load the Skills Directory\n",
    "var skillsDirectory = Path.Combine(System.IO.Directory.GetCurrentDirectory(), \"skills\");\n",
    "\n",
    "// Loading required skills from skillsDirectory\n",
    "var myCustomerIdSkill = kernel.ImportSemanticSkillFromDirectory(skillsDirectory, \"customerIdSkill\");\n",
    "var myCertificateIdSkill = kernel.ImportSemanticSkillFromDirectory(skillsDirectory, \"certificateIdSkill\");\n",
    "\n",
    "var myInput = await Microsoft.DotNet.Interactive.Kernel.GetInputAsync();\n",
    "var CustInfo = new ContextVariables();\n",
    "CustInfo.Set(\"customerData\", customerData.ToString());\n",
    "CustInfo.Set(\"certificationData\", certificationData.ToString());\n",
    "CustInfo.Set(\"input\", myInput.ToString());\n",
    "CustInfo.Set(\"history\", \"\");\n",
    "CustInfo.Set(\"customerID\", \"\");\n",
    "CustInfo.Set(\"certificateID\", \"\");\n",
    "\n",
    "\n",
    "string customer_id;\n",
    "string certificate_id;\n",
    "var historychat = \"\";\n",
    "\n",
    "// Customer Skill ------------------------------------------------------------\n",
    "\n",
    "while(true) \n",
    "{\n",
    "  var result = await kernel.RunAsync(CustInfo, myCustomerIdSkill[\"Chat\"]);\n",
    "  Console.WriteLine(result);\n",
    "\n",
    "  Regex regex = new Regex(pattern);\n",
    "  Match match = regex.Match(myInput.ToString());\n",
    "  if (match.Success)\n",
    "  {\n",
    "      customer_id = match.Value;\n",
    "  }\n",
    "      \n",
    "  bool result12 = result.ToString().Contains(\"THNX\");\n",
    "\n",
    "  if (result12)\n",
    "  {\n",
    "      break;\n",
    "  }\n",
    "\n",
    "  historychat = \"me: \" + myInput + \"\\n AI: \" + result;\n",
    "  CustInfo.Set(\"history\", historychat);\n",
    "  myInput = await Microsoft.DotNet.Interactive.Kernel.GetInputAsync();\n",
    "  CustInfo.Set(\"input\", myInput.ToString());\n",
    "  CustInfo.Set(\"customerID\", customer_id);\n",
    "}\n",
    "\n",
    "// Certificate Skill ------------------------------------------------------------\n",
    "\n",
    "while(true) \n",
    "{\n",
    "  myInput = await Microsoft.DotNet.Interactive.Kernel.GetInputAsync();\n",
    "  CustInfo.Set(\"input\", myInput.ToString());\n",
    "  var result = await kernel.RunAsync(CustInfo, myCertificateIdSkill[\"Chat\"]);\n",
    "  Console.WriteLine(result);\n",
    "\n",
    "  Regex regex = new Regex(pattern);\n",
    "  Match match = regex.Match(myInput.ToString());\n",
    "  if (match.Success)\n",
    "  {\n",
    "      certificate_id = match.Value;\n",
    "  }\n",
    "\n",
    "  bool result21 = result.ToString().Contains(\"THNX\");\n",
    "\n",
    "  if (result21)\n",
    "  {\n",
    "      break;\n",
    "  }\n",
    "\n",
    "  historychat = \"me: \" + myInput + \"\\n AI: \" + result;\n",
    "  CustInfo.Set(\"history\", historychat);\n",
    "  CustInfo.Set(\"certificationID\", certificate_id);\n",
    "}\n",
    "\n",
    "// Veryfying name -----------------------------------------------------------------\n",
    "\n",
    "var customer = customerDataDS.FirstOrDefault(c => c.customerId.Equals(customer_id));\n",
    "var customername = customer.fullName;\n",
    "\n",
    "var certificate = certificationDataDS.FirstOrDefault(d => d.certificationId.Equals(certificate_id));\n",
    "var certificateCustomerName = certificate.fullName;\n",
    "\n",
    "if(customername.Equals(certificateCustomerName))\n",
    "{\n",
    "  int oldPremium = customer.yearlyPremium;\n",
    "  double newPremium = oldPremium * 0.95;\n",
    "  int fivePercent = (int)newPremium;\n",
    "  Console.WriteLine(\"Congrats \" + customer.fullName + \". A discount of 5% has been applied to your yearly premium. Your yearly premium was earlier set to Rs.\" + oldPremium + \" and is now updated to Rs.\" + newPremium + \" after applying the discount.\");\n",
    "}\n",
    "else\n",
    "{\n",
    "  Console.WriteLine(\"The Customer ID and Certification ID you provided, doesn't seem to be valid.\");\n",
    "}"
   ]
  }
 ],
 "metadata": {
  "kernelspec": {
   "display_name": ".NET (C#)",
   "language": "C#",
   "name": ".net-csharp"
  },
  "language_info": {
   "name": "polyglot-notebook"
  },
  "polyglot_notebook": {
   "kernelInfo": {
    "defaultKernelName": "csharp",
    "items": [
     {
      "aliases": [],
      "languageName": "csharp",
      "name": "csharp"
     }
    ]
   }
  }
 },
 "nbformat": 4,
 "nbformat_minor": 2
}
